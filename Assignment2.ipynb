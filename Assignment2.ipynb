{
 "cells": [
  {
   "cell_type": "markdown",
   "id": "7ea46a0d-990f-44de-bc26-8d6bbdeb0f87",
   "metadata": {},
   "source": [
    "Q1. How do you comment code in Python? What are the different types of comments?\n",
    "There are two types of comments\n",
    "\n",
    "\n",
    "1.\tSingle line comments – # symbol is used to comment single line\n",
    "2.\tMulti line comments – “””  “”” symbol used to comment multiple line.\n"
   ]
  },
  {
   "cell_type": "code",
   "execution_count": null,
   "id": "aaa32e86-25ee-4c7e-b152-2a5f938e0699",
   "metadata": {},
   "outputs": [],
   "source": []
  },
  {
   "cell_type": "markdown",
   "id": "76dc34c1-b2ce-4ee4-a28c-ccc732207a0c",
   "metadata": {},
   "source": [
    "Q2. What are variables in Python? How do you declare and assign values to variables?\n",
    "\n",
    "Variable reserves space in memory. Variables in python are case sensitive. \n",
    "Assignment operator “=” used to assign values to variable\n",
    "Eg. MyName = \"Shubhangi\"\n"
   ]
  },
  {
   "cell_type": "code",
   "execution_count": 5,
   "id": "6e23d42f-ec4a-452a-a646-25005c840a40",
   "metadata": {},
   "outputs": [],
   "source": [
    "MyName = \"Shubhangi\""
   ]
  },
  {
   "cell_type": "markdown",
   "id": "e67b94a3-d535-43a5-bf73-75ff1abc696a",
   "metadata": {},
   "source": [
    "Q3. How do you convert one data type to another in Python?\n",
    "\n",
    "Type conversion is used to convert data type in python\n",
    "\n",
    "Eg.  a=int(b)\n",
    "      list=set(list)\n"
   ]
  },
  {
   "cell_type": "code",
   "execution_count": 6,
   "id": "673befad-b511-4929-bac4-3a2404794740",
   "metadata": {},
   "outputs": [],
   "source": [
    "b=15\n",
    "a=float(b)"
   ]
  },
  {
   "cell_type": "code",
   "execution_count": 7,
   "id": "042725cd-a569-45cb-b95e-5af9944b1e94",
   "metadata": {},
   "outputs": [
    {
     "data": {
      "text/plain": [
       "15.0"
      ]
     },
     "execution_count": 7,
     "metadata": {},
     "output_type": "execute_result"
    }
   ],
   "source": [
    "a\n"
   ]
  },
  {
   "cell_type": "markdown",
   "id": "6248d1b4-aaf7-4f5d-90b7-fab25001ca36",
   "metadata": {},
   "source": [
    "Q4. How do you write and execute a Python script from the command line?\n",
    "Open a command line and type the word python followed by the path to your script file \n",
    "    eg. python first_script.py\n"
   ]
  },
  {
   "cell_type": "markdown",
   "id": "95ab9446-bb90-4c30-a398-b210e3460fda",
   "metadata": {},
   "source": [
    "Q5. Given a list my_list = [1, 2, 3, 4, 5], write the code to slice the list and obtain the sub-list [2, 3].\n",
    "My_list=my_list[1:3]\n"
   ]
  },
  {
   "cell_type": "code",
   "execution_count": 9,
   "id": "1451c030-bbf3-4e1c-8ac1-1188951187b4",
   "metadata": {},
   "outputs": [
    {
     "data": {
      "text/plain": [
       "[2]"
      ]
     },
     "execution_count": 9,
     "metadata": {},
     "output_type": "execute_result"
    }
   ],
   "source": [
    "my_list = [1, 2, 3, 4, 5]\n",
    "my_list[1:2]\n"
   ]
  },
  {
   "cell_type": "code",
   "execution_count": 10,
   "id": "9423f42f-a842-40c2-9d55-edffdc9fd221",
   "metadata": {},
   "outputs": [
    {
     "data": {
      "text/plain": [
       "[1, 2, 3, 4, 5]"
      ]
     },
     "execution_count": 10,
     "metadata": {},
     "output_type": "execute_result"
    }
   ],
   "source": [
    "my_list"
   ]
  },
  {
   "cell_type": "code",
   "execution_count": 11,
   "id": "82824938-af2f-447c-b99d-c930fda504ba",
   "metadata": {},
   "outputs": [
    {
     "data": {
      "text/plain": [
       "[2, 3]"
      ]
     },
     "execution_count": 11,
     "metadata": {},
     "output_type": "execute_result"
    }
   ],
   "source": [
    "my_list[1:3]"
   ]
  },
  {
   "cell_type": "markdown",
   "id": "b1b084cf-1fd0-45b5-9598-82ff59fb0035",
   "metadata": {},
   "source": [
    "Q6. What is a complex number in mathematics, and how is it represented in Python?\n",
    "Complex number is combination of real and imaginary number\n",
    "Eg. e=4+7j where 4 and 7 are real number and j is imaginary number.\n"
   ]
  },
  {
   "cell_type": "markdown",
   "id": "10af76ad-66ab-49fe-b538-ccc109628b4d",
   "metadata": {},
   "source": [
    "Q7. What is the correct way to declare a variable named age and assign the value 25 to it\n",
    "\n",
    "age=25\n"
   ]
  },
  {
   "cell_type": "code",
   "execution_count": 12,
   "id": "dae51b24-3d11-45d6-a511-81c6613f47ee",
   "metadata": {},
   "outputs": [],
   "source": [
    "age=25"
   ]
  },
  {
   "cell_type": "code",
   "execution_count": 13,
   "id": "0d4ac6be-f7ee-4f7c-ab15-588c20001b5f",
   "metadata": {},
   "outputs": [
    {
     "data": {
      "text/plain": [
       "25"
      ]
     },
     "execution_count": 13,
     "metadata": {},
     "output_type": "execute_result"
    }
   ],
   "source": [
    "age"
   ]
  },
  {
   "cell_type": "markdown",
   "id": "dd75b01f-facc-4a57-b819-62cf14eed09c",
   "metadata": {},
   "source": [
    "Q8. Declare a variable named price and assign the value 9.99 to it. What data type does this variable\n",
    "belong to?\n"
   ]
  },
  {
   "cell_type": "code",
   "execution_count": 14,
   "id": "727f64bf-1a2b-4657-af26-de380f29fab4",
   "metadata": {},
   "outputs": [],
   "source": [
    "Price = 9.99"
   ]
  },
  {
   "cell_type": "code",
   "execution_count": 16,
   "id": "cbfb00a6-cc8c-4164-b16e-8eec787af118",
   "metadata": {},
   "outputs": [
    {
     "data": {
      "text/plain": [
       "float"
      ]
     },
     "execution_count": 16,
     "metadata": {},
     "output_type": "execute_result"
    }
   ],
   "source": [
    "type(Price)"
   ]
  },
  {
   "cell_type": "markdown",
   "id": "61462e4e-e73d-4d37-9106-b0fe56d57407",
   "metadata": {},
   "source": [
    "Q9. Create a variable named name and assign your full name to it as a string. How would you print the\n",
    "value of this variable?\n",
    "\n",
    "Name=”Shubhangi sawant”\n",
    "print(“full name is:”,Name)\n"
   ]
  },
  {
   "cell_type": "code",
   "execution_count": 21,
   "id": "fb69d229-36bf-4acc-b60d-d8eeef37e2dd",
   "metadata": {},
   "outputs": [
    {
     "name": "stdout",
     "output_type": "stream",
     "text": [
      "full name is: Shubhangi sawant\n"
     ]
    }
   ],
   "source": [
    "Name=\"Shubhangi sawant\"\n",
    "print(\"full name is:\",Name)\n"
   ]
  },
  {
   "cell_type": "markdown",
   "id": "609187b6-d154-4735-8c6f-09444f14981c",
   "metadata": {},
   "source": [
    "Q10. Given the string \"Hello, World!\", extract the substring \"World\".\n",
    "\n"
   ]
  },
  {
   "cell_type": "code",
   "execution_count": 23,
   "id": "22faaa93-2f34-4da3-a2bf-7cd7852013be",
   "metadata": {},
   "outputs": [
    {
     "data": {
      "text/plain": [
       "'World'"
      ]
     },
     "execution_count": 23,
     "metadata": {},
     "output_type": "execute_result"
    }
   ],
   "source": [
    "mystring=\"Hello,World!\"\n",
    "mystring[6:11]"
   ]
  },
  {
   "cell_type": "markdown",
   "id": "426c9ba1-0e88-41f0-8aaa-71a146811571",
   "metadata": {},
   "source": [
    "Q11. Create a variable named \"is_student\" and assign it a boolean value indicating whether you are\n",
    "currently a student or not.\n",
    "\n"
   ]
  },
  {
   "cell_type": "code",
   "execution_count": 25,
   "id": "8fd553fc-bab2-42ca-b026-f9bc3843070e",
   "metadata": {},
   "outputs": [],
   "source": [
    "Is_student=True"
   ]
  },
  {
   "cell_type": "code",
   "execution_count": 26,
   "id": "0051841b-01fe-436e-9c5f-e95607e074ed",
   "metadata": {},
   "outputs": [
    {
     "data": {
      "text/plain": [
       "bool"
      ]
     },
     "execution_count": 26,
     "metadata": {},
     "output_type": "execute_result"
    }
   ],
   "source": [
    "type(Is_student)"
   ]
  },
  {
   "cell_type": "code",
   "execution_count": null,
   "id": "a5e75cf3-a534-42a2-a904-f85f990eea9d",
   "metadata": {},
   "outputs": [],
   "source": []
  },
  {
   "cell_type": "code",
   "execution_count": null,
   "id": "be196da0-21af-43f2-9e00-b92f9a782c93",
   "metadata": {},
   "outputs": [],
   "source": []
  },
  {
   "cell_type": "code",
   "execution_count": null,
   "id": "5a31de44-06f6-497f-8606-6cb991952070",
   "metadata": {},
   "outputs": [],
   "source": []
  },
  {
   "cell_type": "code",
   "execution_count": null,
   "id": "622e87fb-b485-4b28-b39e-e45efc08442b",
   "metadata": {},
   "outputs": [],
   "source": []
  },
  {
   "cell_type": "code",
   "execution_count": null,
   "id": "e2a34ec3-45ec-4229-93e4-9fc5bcb95dbd",
   "metadata": {},
   "outputs": [],
   "source": []
  },
  {
   "cell_type": "code",
   "execution_count": null,
   "id": "2cda4ff7-ff42-4b83-84ff-5889b5ed179f",
   "metadata": {},
   "outputs": [],
   "source": []
  },
  {
   "cell_type": "code",
   "execution_count": null,
   "id": "b525216f-62cc-47be-b035-540930d980b0",
   "metadata": {},
   "outputs": [],
   "source": []
  },
  {
   "cell_type": "code",
   "execution_count": null,
   "id": "1930d3bc-2bfa-4755-b19b-c7c4ee41d308",
   "metadata": {},
   "outputs": [],
   "source": []
  },
  {
   "cell_type": "code",
   "execution_count": null,
   "id": "2964d0f1-a0d5-4609-9856-0b53212777a6",
   "metadata": {},
   "outputs": [],
   "source": []
  },
  {
   "cell_type": "code",
   "execution_count": null,
   "id": "1c10e320-f2f1-4dff-8aaf-d57eeb6b26a5",
   "metadata": {},
   "outputs": [],
   "source": []
  },
  {
   "cell_type": "code",
   "execution_count": null,
   "id": "6a20e26c-3359-4f0e-b9e1-ec6d856bab18",
   "metadata": {},
   "outputs": [],
   "source": []
  }
 ],
 "metadata": {
  "kernelspec": {
   "display_name": "Python 3 (ipykernel)",
   "language": "python",
   "name": "python3"
  },
  "language_info": {
   "codemirror_mode": {
    "name": "ipython",
    "version": 3
   },
   "file_extension": ".py",
   "mimetype": "text/x-python",
   "name": "python",
   "nbconvert_exporter": "python",
   "pygments_lexer": "ipython3",
   "version": "3.10.8"
  }
 },
 "nbformat": 4,
 "nbformat_minor": 5
}
