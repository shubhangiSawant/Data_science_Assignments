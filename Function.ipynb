{
 "cells": [
  {
   "cell_type": "markdown",
   "id": "e183475b-97d3-44d5-9a79-0f7f1a08d3f3",
   "metadata": {},
   "source": [
    "Q1. Which keyword is used to create a function? Create a function to return a list of odd numbers in the\n",
    "range of 1 to 25.\n"
   ]
  },
  {
   "cell_type": "markdown",
   "id": "11f9f613-3341-4ec7-81e3-00ac2d31c27d",
   "metadata": {},
   "source": [
    "def keyword is used create function\n"
   ]
  },
  {
   "cell_type": "code",
   "execution_count": 13,
   "id": "bb5054ac-7566-4599-abfb-d00aec4a5ea1",
   "metadata": {},
   "outputs": [
    {
     "name": "stdout",
     "output_type": "stream",
     "text": [
      "1\n",
      "3\n",
      "5\n",
      "7\n",
      "9\n",
      "11\n",
      "13\n",
      "15\n",
      "17\n",
      "19\n",
      "21\n",
      "23\n",
      "25\n"
     ]
    }
   ],
   "source": [
    "def odd_numbers(start, end):\n",
    "    for num in range(start, end + 1):\n",
    "        if num % 2 != 0:\n",
    "            print(num)\n",
    "\n",
    "odd_numbers(1, 25)\n"
   ]
  },
  {
   "cell_type": "markdown",
   "id": "9f9caf55-8dd6-421f-98d4-8e195e31cb42",
   "metadata": {},
   "source": [
    "Q2. Why *args and **kwargs is used in some functions? Create a function each for *args and **kwargs to\n",
    "demonstrate their use."
   ]
  },
  {
   "cell_type": "markdown",
   "id": "cc309d69-1b5c-4b03-af17-6de2a086b793",
   "metadata": {},
   "source": [
    "*args is used to pass any number of parameter/argument to function, allows you to pass a variable number of positional arguments to a function. \n",
    "where **kwargs is used to pass key value pair as parameter/argument. allows you to pass a variable number of keyword arguments to a function. It collects these arguments into a dictionary."
   ]
  },
  {
   "cell_type": "code",
   "execution_count": 15,
   "id": "9cb2f7c0-662c-4f48-a885-6a8e95792aaa",
   "metadata": {},
   "outputs": [
    {
     "data": {
      "text/plain": [
       "16"
      ]
     },
     "execution_count": 15,
     "metadata": {},
     "output_type": "execute_result"
    }
   ],
   "source": [
    "def sum_numbers(*args):\n",
    "    total = 0\n",
    "    for num in args:\n",
    "        total += num\n",
    "    return total\n",
    "\n",
    "sum_numbers(1,3,5,7)"
   ]
  },
  {
   "cell_type": "code",
   "execution_count": 16,
   "id": "616d3ad7-aa4e-4823-8109-221536897c17",
   "metadata": {},
   "outputs": [
    {
     "name": "stdout",
     "output_type": "stream",
     "text": [
      "name: shubhangi\n",
      "age: 32\n",
      "city: Mumbai\n"
     ]
    }
   ],
   "source": [
    "def print_details(**kwargs):\n",
    "    for key, value in kwargs.items():\n",
    "        print(f\"{key}: {value}\")\n",
    "        \n",
    "print_details(name=\"shubhangi\", age=32, city=\"Mumbai\")"
   ]
  },
  {
   "cell_type": "markdown",
   "id": "65c55100-17ad-4663-ae91-b5d5512d0479",
   "metadata": {},
   "source": [
    "Q3.  What is an iterator in python? Name the method used to initialise the iterator object and the method\n",
    "used for iteration. Use these methods to print the first five elements of the given list [2, 4, 6, 8, 10, 12, 14, 16,18, 20]."
   ]
  },
  {
   "cell_type": "markdown",
   "id": "72f3b77e-970b-44b6-b248-99bd2f432a0c",
   "metadata": {},
   "source": [
    "In Python, an iterator is an object that allows you to iterate over collections of data, such as lists, tuples, dictionaries, and sets.\n",
    "The Python iterators object is initialized using the iter() method.\n",
    "It uses the next() method for iteration."
   ]
  },
  {
   "cell_type": "code",
   "execution_count": 17,
   "id": "6e649954-341f-4123-9e56-592bbc187967",
   "metadata": {},
   "outputs": [
    {
     "name": "stdout",
     "output_type": "stream",
     "text": [
      "2\n",
      "4\n",
      "6\n",
      "8\n",
      "10\n"
     ]
    }
   ],
   "source": [
    "my_list= [2, 4, 6, 8, 10, 12, 14, 16,18, 20]\n",
    "my_iterator=iter(my_list)\n",
    "for i in range(5):\n",
    "    element=next(my_iterator)\n",
    "    print(element)\n",
    "    \n"
   ]
  },
  {
   "cell_type": "markdown",
   "id": "b8aae3f6-2241-49d1-b4e3-2c4ea908bcfc",
   "metadata": {},
   "source": [
    "Q4. What is a generator function in python? Why yield keyword is used? Give an example of a generator\n",
    "function."
   ]
  },
  {
   "cell_type": "markdown",
   "id": "f7e72bb3-2af5-46b6-b899-df1f30c9070c",
   "metadata": {},
   "source": [
    "A generator function is a type of function that allows you to generate a sequence of values lazily, one at a time, rather than creating and storing all values in memory at once. Generator functions are defined using the yield keyword instead of return. When a generator function is called, it returns a generator object, which can be iterated over to produce values on-the-fly."
   ]
  },
  {
   "cell_type": "markdown",
   "id": "09b32e9e-0d4b-4c89-ae54-53a5d1110b54",
   "metadata": {},
   "source": [
    "The yield keyword in Python is similar to a return statement used for returning values in Python which returns a generator object to the one who calls the function which contains yield, instead of simply returning a value"
   ]
  },
  {
   "cell_type": "code",
   "execution_count": 22,
   "id": "2817dcc6-a8f5-4083-84d7-6fa59b7615f8",
   "metadata": {},
   "outputs": [
    {
     "name": "stdout",
     "output_type": "stream",
     "text": [
      "0\n",
      "1\n",
      "1\n",
      "2\n",
      "3\n",
      "5\n",
      "8\n",
      "13\n",
      "21\n",
      "34\n",
      "55\n",
      "89\n",
      "144\n",
      "233\n",
      "377\n",
      "610\n",
      "987\n",
      "1597\n",
      "2584\n",
      "4181\n",
      "6765\n",
      "10946\n",
      "17711\n",
      "28657\n",
      "46368\n"
     ]
    }
   ],
   "source": [
    "def test_fib(n):\n",
    "    a,b=0,1\n",
    "    for i in range(n):\n",
    "        yield a\n",
    "        a,b=b,a+b\n",
    "        \n",
    "for i in test_fib(25):\n",
    "    print(i)\n"
   ]
  },
  {
   "cell_type": "markdown",
   "id": "31c42ae9-2036-423c-8943-ffc7e9ca5314",
   "metadata": {},
   "source": [
    "Q5. Create a generator function for prime numbers less than 1000. Use the next() method to print the\n",
    "first 20 prime numbers."
   ]
  },
  {
   "cell_type": "code",
   "execution_count": 23,
   "id": "ef930b4f-2a81-4cb3-8427-4761246c3c19",
   "metadata": {},
   "outputs": [
    {
     "name": "stdout",
     "output_type": "stream",
     "text": [
      "2\n",
      "3\n",
      "5\n",
      "7\n",
      "11\n",
      "13\n",
      "17\n",
      "19\n",
      "23\n",
      "29\n",
      "31\n",
      "37\n",
      "41\n",
      "43\n",
      "47\n",
      "53\n",
      "59\n",
      "61\n",
      "67\n",
      "71\n"
     ]
    }
   ],
   "source": [
    "def is_prime(num):\n",
    "    if num < 2:\n",
    "        return False\n",
    "    for i in range(2, int(num**0.5) + 1):\n",
    "        if num % i == 0:\n",
    "            return False\n",
    "    return True\n",
    "\n",
    "def prime_generator(limit):\n",
    "    num = 2\n",
    "    while num < limit:\n",
    "        if is_prime(num):\n",
    "            yield num\n",
    "        num += 1\n",
    "\n",
    "prime_gen = prime_generator(1000)\n",
    "\n",
    "\n",
    "for _ in range(20):\n",
    "    prime = next(prime_gen)\n",
    "    print(prime)\n"
   ]
  },
  {
   "cell_type": "code",
   "execution_count": null,
   "id": "256515ea-23c4-48b1-8630-e753e5239444",
   "metadata": {},
   "outputs": [],
   "source": []
  },
  {
   "cell_type": "code",
   "execution_count": null,
   "id": "57b4f070-0d12-4d02-bb5d-52523f089767",
   "metadata": {},
   "outputs": [],
   "source": []
  },
  {
   "cell_type": "code",
   "execution_count": null,
   "id": "83c35a39-3a1e-4dc1-96cb-02e77663d1c1",
   "metadata": {},
   "outputs": [],
   "source": []
  },
  {
   "cell_type": "code",
   "execution_count": null,
   "id": "2ec4bc97-ab38-4241-9134-7b827a9b7ee6",
   "metadata": {},
   "outputs": [],
   "source": []
  },
  {
   "cell_type": "code",
   "execution_count": null,
   "id": "2bb52581-7005-4849-a378-dee1fe42f7fc",
   "metadata": {},
   "outputs": [],
   "source": []
  },
  {
   "cell_type": "code",
   "execution_count": null,
   "id": "81cf3752-d74f-40d0-b0d7-7d0a567c0961",
   "metadata": {},
   "outputs": [],
   "source": [
    "\n"
   ]
  },
  {
   "cell_type": "code",
   "execution_count": null,
   "id": "f1fdd724-c5ee-4367-ae5f-e9d6c9462d4c",
   "metadata": {},
   "outputs": [],
   "source": []
  },
  {
   "cell_type": "code",
   "execution_count": null,
   "id": "38124b1d-5788-4da4-8781-43b59082abd8",
   "metadata": {},
   "outputs": [],
   "source": []
  },
  {
   "cell_type": "code",
   "execution_count": null,
   "id": "b14e4d7f-44bd-4df1-8fe5-93f857a9bc02",
   "metadata": {},
   "outputs": [],
   "source": []
  },
  {
   "cell_type": "code",
   "execution_count": null,
   "id": "b9e14ed4-6ea1-4baf-983c-23cce05d2555",
   "metadata": {},
   "outputs": [],
   "source": []
  },
  {
   "cell_type": "code",
   "execution_count": null,
   "id": "3c15c260-a3a6-4c56-9c26-3a854160306e",
   "metadata": {},
   "outputs": [],
   "source": []
  },
  {
   "cell_type": "code",
   "execution_count": null,
   "id": "b8b53537-f4b3-4482-9888-3b2fb97ec7d5",
   "metadata": {},
   "outputs": [],
   "source": []
  },
  {
   "cell_type": "code",
   "execution_count": null,
   "id": "f6311bc4-a258-4492-884f-d1ee7fd88d19",
   "metadata": {},
   "outputs": [],
   "source": []
  },
  {
   "cell_type": "code",
   "execution_count": null,
   "id": "1b22ef7d-7dbf-468d-97c1-84347e04710a",
   "metadata": {},
   "outputs": [],
   "source": []
  },
  {
   "cell_type": "code",
   "execution_count": null,
   "id": "ba49b984-3ec5-4713-bc88-8f3d1e67789e",
   "metadata": {},
   "outputs": [],
   "source": []
  },
  {
   "cell_type": "code",
   "execution_count": null,
   "id": "e24a6d7f-15ed-43f5-859d-85c9a44b41ec",
   "metadata": {},
   "outputs": [],
   "source": []
  }
 ],
 "metadata": {
  "kernelspec": {
   "display_name": "Python 3 (ipykernel)",
   "language": "python",
   "name": "python3"
  },
  "language_info": {
   "codemirror_mode": {
    "name": "ipython",
    "version": 3
   },
   "file_extension": ".py",
   "mimetype": "text/x-python",
   "name": "python",
   "nbconvert_exporter": "python",
   "pygments_lexer": "ipython3",
   "version": "3.10.8"
  }
 },
 "nbformat": 4,
 "nbformat_minor": 5
}
